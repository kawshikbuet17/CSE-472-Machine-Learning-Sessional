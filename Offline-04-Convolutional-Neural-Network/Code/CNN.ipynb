{
 "cells": [
  {
   "attachments": {},
   "cell_type": "markdown",
   "metadata": {},
   "source": [
    "# Import Libraries"
   ]
  },
  {
   "cell_type": "code",
   "execution_count": 104,
   "metadata": {},
   "outputs": [],
   "source": [
    "import numpy as np\n",
    "import os\n",
    "import cv2\n",
    "import matplotlib.pyplot as plt\n",
    "import pandas as pd\n",
    "import math"
   ]
  },
  {
   "attachments": {},
   "cell_type": "markdown",
   "metadata": {},
   "source": [
    "# Load Data"
   ]
  },
  {
   "attachments": {},
   "cell_type": "markdown",
   "metadata": {},
   "source": [
    "### Import Load Data Functions"
   ]
  },
  {
   "cell_type": "code",
   "execution_count": 105,
   "metadata": {},
   "outputs": [],
   "source": [
    "from LoadData import *"
   ]
  },
  {
   "attachments": {},
   "cell_type": "markdown",
   "metadata": {},
   "source": [
    "### Load Data and Preprocess"
   ]
  },
  {
   "cell_type": "code",
   "execution_count": 106,
   "metadata": {},
   "outputs": [
    {
     "name": "stdout",
     "output_type": "stream",
     "text": [
      "train_images.shape =  (2000, 28, 28, 1)\n",
      "train_labels.shape =  (2000,)\n",
      "train_images[0].shape =  (28, 28, 1)\n"
     ]
    }
   ],
   "source": [
    "# load images\n",
    "train_images, train_labels = load_data('training-a', 'training-a.csv')\n",
    "train_images, train_labels = preprocess_data(train_images, train_labels)\n",
    "\n",
    "# print shapes\n",
    "print(\"train_images.shape = \", train_images.shape)\n",
    "print(\"train_labels.shape = \", train_labels.shape)\n",
    "print(\"train_images[0].shape = \", train_images[0].shape)"
   ]
  },
  {
   "attachments": {},
   "cell_type": "markdown",
   "metadata": {},
   "source": [
    "### Split data into train and validation"
   ]
  },
  {
   "cell_type": "code",
   "execution_count": 107,
   "metadata": {},
   "outputs": [],
   "source": [
    "# split data into train and validation\n",
    "train_ratio = 0.8\n",
    "X_train = train_images[:int(train_ratio*len(train_images))]\n",
    "y_train = train_labels[:int(train_ratio*len(train_labels))]\n",
    "X_val = train_images[int(train_ratio*len(train_images)):]\n",
    "y_val = train_labels[int(train_ratio*len(train_labels)):]"
   ]
  },
  {
   "attachments": {},
   "cell_type": "markdown",
   "metadata": {},
   "source": [
    "# Model"
   ]
  },
  {
   "attachments": {},
   "cell_type": "markdown",
   "metadata": {},
   "source": [
    "### Import Layers"
   ]
  },
  {
   "cell_type": "code",
   "execution_count": 108,
   "metadata": {},
   "outputs": [],
   "source": [
    "from ConvolutionLayer import ConvolutionLayer\n",
    "from ReLULayer import ReLULayer\n",
    "from MaxPoolingLayer import MaxPoolingLayer\n",
    "from FlattenLayer import FlattenLayer\n",
    "from FullyConnectedLayer import FullyConnectedLayer\n",
    "from SoftmaxLayer import SoftmaxLayer"
   ]
  },
  {
   "attachments": {},
   "cell_type": "markdown",
   "metadata": {},
   "source": [
    "### Import Model Class"
   ]
  },
  {
   "cell_type": "code",
   "execution_count": 109,
   "metadata": {},
   "outputs": [],
   "source": [
    "from Model import Model"
   ]
  },
  {
   "attachments": {},
   "cell_type": "markdown",
   "metadata": {},
   "source": [
    "### Model Building"
   ]
  },
  {
   "cell_type": "code",
   "execution_count": 110,
   "metadata": {},
   "outputs": [],
   "source": [
    "# use lenet-5 model\n",
    "model = Model(10)\n",
    "model.add(ConvolutionLayer(6, 5, 1, 1))\n",
    "model.add(ReLULayer())\n",
    "model.add(MaxPoolingLayer(pool_size=2, stride=2))\n",
    "model.add(ConvolutionLayer(16, 5, 1, 1))\n",
    "model.add(ReLULayer())\n",
    "model.add(MaxPoolingLayer(pool_size=2, stride=2))\n",
    "model.add(FlattenLayer())\n",
    "model.add(FullyConnectedLayer(output_size=120))\n",
    "model.add(ReLULayer())\n",
    "model.add(FullyConnectedLayer(output_size=84))\n",
    "model.add(ReLULayer())\n",
    "model.add(FullyConnectedLayer(output_size=10))\n",
    "model.add(SoftmaxLayer())"
   ]
  },
  {
   "attachments": {},
   "cell_type": "markdown",
   "metadata": {},
   "source": [
    "### Train Model"
   ]
  },
  {
   "cell_type": "code",
   "execution_count": 111,
   "metadata": {},
   "outputs": [
    {
     "name": "stdout",
     "output_type": "stream",
     "text": [
      "epoch:  0\n",
      "y_pred (first 10)\t:  [7 7 7 7 7 7 7 9 9 9]\n",
      "y_real (first 10)\t:  [4 6 6 6 6 6 6 5 5 5]\n",
      "accuracy:  0.075\n",
      "epoch:  1\n",
      "y_pred (first 10)\t:  [4 7 7 7 7 7 7 9 9 9]\n",
      "y_real (first 10)\t:  [4 6 6 6 6 6 6 5 5 5]\n",
      "accuracy:  0.1225\n",
      "epoch:  2\n",
      "y_pred (first 10)\t:  [4 7 7 7 8 8 8 4 4 4]\n",
      "y_real (first 10)\t:  [4 6 6 6 6 6 6 5 5 5]\n",
      "accuracy:  0.1\n",
      "epoch:  3\n",
      "y_pred (first 10)\t:  [4 7 7 7 4 4 4 4 4 4]\n",
      "y_real (first 10)\t:  [4 6 6 6 6 6 6 5 5 5]\n",
      "accuracy:  0.1525\n",
      "epoch:  4\n",
      "y_pred (first 10)\t:  [4 7 7 7 8 8 8 4 4 4]\n",
      "y_real (first 10)\t:  [4 6 6 6 6 6 6 5 5 5]\n",
      "accuracy:  0.1075\n",
      "epoch:  5\n",
      "y_pred (first 10)\t:  [4 7 7 7 7 7 7 4 4 4]\n",
      "y_real (first 10)\t:  [4 6 6 6 6 6 6 5 5 5]\n",
      "accuracy:  0.13\n",
      "epoch:  6\n",
      "y_pred (first 10)\t:  [4 7 7 7 4 4 4 4 4 4]\n",
      "y_real (first 10)\t:  [4 6 6 6 6 6 6 5 5 5]\n",
      "accuracy:  0.1675\n",
      "epoch:  7\n",
      "y_pred (first 10)\t:  [4 7 7 7 4 4 4 4 4 4]\n",
      "y_real (first 10)\t:  [4 6 6 6 6 6 6 5 5 5]\n",
      "accuracy:  0.175\n",
      "epoch:  8\n",
      "y_pred (first 10)\t:  [4 7 7 7 4 4 4 4 4 4]\n",
      "y_real (first 10)\t:  [4 6 6 6 6 6 6 5 5 5]\n",
      "accuracy:  0.16\n",
      "epoch:  9\n",
      "y_pred (first 10)\t:  [4 4 4 4 4 4 4 4 4 4]\n",
      "y_real (first 10)\t:  [4 6 6 6 6 6 6 5 5 5]\n",
      "accuracy:  0.205\n"
     ]
    }
   ],
   "source": [
    "# train\n",
    "model.train(X_train=X_train, y_train=y_train, X_val=X_val, y_val=y_val, learning_rate=0.0000008, epochs=10, batch_size=128)"
   ]
  },
  {
   "attachments": {},
   "cell_type": "markdown",
   "metadata": {},
   "source": [
    "### Save Model"
   ]
  },
  {
   "cell_type": "code",
   "execution_count": 112,
   "metadata": {},
   "outputs": [],
   "source": [
    "# Save the model using pickle\n",
    "import pickle\n",
    "with open('model.pkl', 'wb') as f:\n",
    "    pickle.dump(model, f)\n",
    "\n",
    "# Load the model using pickle\n",
    "with open('model.pkl', 'rb') as f:\n",
    "    model = pickle.load(f)\n"
   ]
  },
  {
   "attachments": {},
   "cell_type": "markdown",
   "metadata": {},
   "source": [
    "## Performace Metrics and Confusion Matrix"
   ]
  },
  {
   "attachments": {},
   "cell_type": "markdown",
   "metadata": {},
   "source": [
    "### Load Test Data"
   ]
  },
  {
   "cell_type": "code",
   "execution_count": 113,
   "metadata": {},
   "outputs": [],
   "source": [
    "# load test images\n",
    "test_images, test_labels = load_data('training-d', 'training-d.csv')\n",
    "test_images, test_labels = preprocess_data(test_images, test_labels)"
   ]
  },
  {
   "attachments": {},
   "cell_type": "markdown",
   "metadata": {},
   "source": [
    "### Performance Matrics"
   ]
  },
  {
   "cell_type": "code",
   "execution_count": 114,
   "metadata": {},
   "outputs": [
    {
     "name": "stdout",
     "output_type": "stream",
     "text": [
      "Accuracy:  0.166\n",
      "Confusion Matrix:  [[66 48 12 18 18 10  9  8  5 10]\n",
      " [27 29 26 31  8 16 16 23  4 12]\n",
      " [34 22 24 35 22 10 18  9  4 18]\n",
      " [27  5  9 50 24 13 45 22  9  4]\n",
      " [17 15  1 48 47 12 31 18 18  1]\n",
      " [33 10  3 56 14  8 23 26  7  8]\n",
      " [37 12  6 41 26 18 22 14 11 13]\n",
      " [43  3  0 60 19  7 19 30  5 18]\n",
      " [10  7  3 32 25 19 35 16 30  3]\n",
      " [35 17 19 35 12 22 24 28  2 26]]\n",
      "Classification Report:                precision    recall  f1-score   support\n",
      "\n",
      "           0       0.20      0.32      0.25       204\n",
      "           1       0.17      0.15      0.16       192\n",
      "           2       0.23      0.12      0.16       196\n",
      "           3       0.12      0.24      0.16       208\n",
      "           4       0.22      0.23      0.22       208\n",
      "           5       0.06      0.04      0.05       188\n",
      "           6       0.09      0.11      0.10       200\n",
      "           7       0.15      0.15      0.15       204\n",
      "           8       0.32      0.17      0.22       180\n",
      "           9       0.23      0.12      0.16       220\n",
      "\n",
      "    accuracy                           0.17      2000\n",
      "   macro avg       0.18      0.16      0.16      2000\n",
      "weighted avg       0.18      0.17      0.16      2000\n",
      "\n"
     ]
    }
   ],
   "source": [
    "# performance metrics and confusion matrix\n",
    "from sklearn.metrics import confusion_matrix\n",
    "from sklearn.metrics import classification_report\n",
    "from sklearn.metrics import accuracy_score\n",
    "\n",
    "# predict   \n",
    "y_pred = model.predict(test_images)\n",
    "\n",
    "# print performance metrics\n",
    "print(\"Accuracy: \", accuracy_score(test_labels, y_pred))\n",
    "print(\"Confusion Matrix: \", confusion_matrix(test_labels, y_pred))\n",
    "\n",
    "# print classification report\n",
    "print(\"Classification Report: \", classification_report(test_labels, y_pred))"
   ]
  },
  {
   "attachments": {},
   "cell_type": "markdown",
   "metadata": {},
   "source": [
    "### Confustion Matrix"
   ]
  },
  {
   "cell_type": "code",
   "execution_count": 115,
   "metadata": {},
   "outputs": [
    {
     "data": {
      "image/png": "[encoded data removed]",
      "text/plain": [
       "<Figure size 1000x1000 with 2 Axes>"
      ]
     },
     "metadata": {},
     "output_type": "display_data"
    }
   ],
   "source": [
    "# plot confusion matrix using seaborn\n",
    "import seaborn as sns\n",
    "import matplotlib.pyplot as plt\n",
    "\n",
    "cm = confusion_matrix(test_labels, y_pred)\n",
    "plt.figure(figsize=(10, 10))\n",
    "sns.heatmap(cm, annot=True, fmt=\"d\")\n",
    "plt.title(\"Confusion matrix\")\n",
    "plt.ylabel('True label')\n",
    "plt.xlabel('Predicted label')\n",
    "plt.show()"
   ]
  }
 ],
 "metadata": {
  "kernelspec": {
   "display_name": "Python 3 (ipykernel)",
   "language": "python",
   "name": "python3"
  },
  "language_info": {
   "codemirror_mode": {
    "name": "ipython",
    "version": 3
   },
   "file_extension": ".py",
   "mimetype": "text/x-python",
   "name": "python",
   "nbconvert_exporter": "python",
   "pygments_lexer": "ipython3",
   "version": "3.11.0"
  },
  "vscode": {
   "interpreter": {
    "hash": "b33069848e313ad49d053c5e2afad7bf1a5908034c1949d44822ff536d0b5b4f"
   }
  }
 },
 "nbformat": 4,
 "nbformat_minor": 2
}
