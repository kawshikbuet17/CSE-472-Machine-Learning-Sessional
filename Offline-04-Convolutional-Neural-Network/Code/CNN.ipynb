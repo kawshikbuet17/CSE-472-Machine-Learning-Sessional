{
 "cells": [
  {
   "attachments": {},
   "cell_type": "markdown",
   "metadata": {},
   "source": [
    "# Import Libraries"
   ]
  },
  {
   "cell_type": "code",
   "execution_count": 1,
   "metadata": {},
   "outputs": [],
   "source": [
    "import numpy as np\n",
    "import os\n",
    "import cv2\n",
    "import matplotlib.pyplot as plt\n",
    "import pandas as pd\n",
    "import math"
   ]
  },
  {
   "attachments": {},
   "cell_type": "markdown",
   "metadata": {},
   "source": [
    "# Load Data"
   ]
  },
  {
   "attachments": {},
   "cell_type": "markdown",
   "metadata": {},
   "source": [
    "### Import Load Data Functions"
   ]
  },
  {
   "cell_type": "code",
   "execution_count": 2,
   "metadata": {},
   "outputs": [],
   "source": [
    "from LoadData import *"
   ]
  },
  {
   "attachments": {},
   "cell_type": "markdown",
   "metadata": {},
   "source": [
    "### Load Data and Preprocess"
   ]
  },
  {
   "cell_type": "code",
   "execution_count": 3,
   "metadata": {},
   "outputs": [
    {
     "name": "stdout",
     "output_type": "stream",
     "text": [
      "train_images.shape =  (1000, 28, 28, 1)\n",
      "train_labels.shape =  (1000,)\n",
      "train_images[0].shape =  (28, 28, 1)\n"
     ]
    }
   ],
   "source": [
    "# load images\n",
    "train_images, train_labels = load_data('training-a', 'training-a.csv')\n",
    "train_images, train_labels = preprocess_data(train_images, train_labels)\n",
    "\n",
    "# print shapes\n",
    "print(\"train_images.shape = \", train_images.shape)\n",
    "print(\"train_labels.shape = \", train_labels.shape)\n",
    "print(\"train_images[0].shape = \", train_images[0].shape)"
   ]
  },
  {
   "attachments": {},
   "cell_type": "markdown",
   "metadata": {},
   "source": [
    "### Split data into train and validation"
   ]
  },
  {
   "cell_type": "code",
   "execution_count": 4,
   "metadata": {},
   "outputs": [],
   "source": [
    "# suffle data\n",
    "s = np.arange(train_images.shape[0])\n",
    "np.random.shuffle(s)\n",
    "train_images = train_images[s]\n",
    "train_labels = train_labels[s]\n",
    "\n",
    "# split data into train and validation\n",
    "train_ratio = 0.8\n",
    "X_train = train_images[:int(train_ratio*len(train_images))]\n",
    "y_train = train_labels[:int(train_ratio*len(train_labels))]\n",
    "X_val = train_images[int(train_ratio*len(train_images)):]\n",
    "y_val = train_labels[int(train_ratio*len(train_labels)):]"
   ]
  },
  {
   "attachments": {},
   "cell_type": "markdown",
   "metadata": {},
   "source": [
    "# Model"
   ]
  },
  {
   "attachments": {},
   "cell_type": "markdown",
   "metadata": {},
   "source": [
    "### Import Layers"
   ]
  },
  {
   "cell_type": "code",
   "execution_count": 5,
   "metadata": {},
   "outputs": [],
   "source": [
    "from ConvolutionLayer import ConvolutionLayer\n",
    "from ReLULayer import ReLULayer\n",
    "from MaxPoolingLayer import MaxPoolingLayer\n",
    "from FlattenLayer import FlattenLayer\n",
    "from FullyConnectedLayer import FullyConnectedLayer\n",
    "from SoftmaxLayer import SoftmaxLayer"
   ]
  },
  {
   "attachments": {},
   "cell_type": "markdown",
   "metadata": {},
   "source": [
    "### Import Model Class"
   ]
  },
  {
   "cell_type": "code",
   "execution_count": 6,
   "metadata": {},
   "outputs": [],
   "source": [
    "from Model import Model"
   ]
  },
  {
   "attachments": {},
   "cell_type": "markdown",
   "metadata": {},
   "source": [
    "### Model Building"
   ]
  },
  {
   "cell_type": "code",
   "execution_count": 7,
   "metadata": {},
   "outputs": [],
   "source": [
    "# use lenet-5 model\n",
    "model = Model(10)\n",
    "model.add(ConvolutionLayer(6, 5, 1, 1))\n",
    "model.add(ReLULayer())\n",
    "model.add(MaxPoolingLayer(pool_size=2, stride=2))\n",
    "model.add(ConvolutionLayer(16, 5, 1, 1))\n",
    "model.add(ReLULayer())\n",
    "model.add(MaxPoolingLayer(pool_size=2, stride=2))\n",
    "model.add(FlattenLayer())\n",
    "model.add(FullyConnectedLayer(output_size=120))\n",
    "model.add(ReLULayer())\n",
    "model.add(FullyConnectedLayer(output_size=84))\n",
    "model.add(ReLULayer())\n",
    "model.add(FullyConnectedLayer(output_size=10))\n",
    "model.add(SoftmaxLayer())"
   ]
  },
  {
   "attachments": {},
   "cell_type": "markdown",
   "metadata": {},
   "source": [
    "### Train Model"
   ]
  },
  {
   "cell_type": "code",
   "execution_count": 8,
   "metadata": {},
   "outputs": [
    {
     "name": "stdout",
     "output_type": "stream",
     "text": [
      "epoch:  0\n",
      "y_pred (first 10)\t:  [6 7 0 7 0 7 1 0 0 6]\n",
      "y_real (first 10)\t:  [0 5 3 1 2 4 7 8 9 4]\n",
      "accuracy:  0.11\n",
      "f1 score:  0.10168528418743268\n",
      "epoch:  1\n",
      "y_pred (first 10)\t:  [6 7 4 6 1 4 9 8 0 8]\n",
      "y_real (first 10)\t:  [0 5 3 1 2 4 7 8 9 4]\n",
      "accuracy:  0.12\n",
      "f1 score:  0.11451283730798623\n",
      "epoch:  2\n",
      "y_pred (first 10)\t:  [6 7 8 4 0 4 1 8 8 5]\n",
      "y_real (first 10)\t:  [0 5 3 1 2 4 7 8 9 4]\n",
      "accuracy:  0.165\n",
      "f1 score:  0.1489997179029437\n",
      "epoch:  3\n",
      "y_pred (first 10)\t:  [8 7 4 5 0 4 6 3 8 5]\n",
      "y_real (first 10)\t:  [0 5 3 1 2 4 7 8 9 4]\n",
      "accuracy:  0.225\n",
      "f1 score:  0.22181800317026035\n",
      "epoch:  4\n",
      "y_pred (first 10)\t:  [8 7 4 5 0 4 3 8 8 5]\n",
      "y_real (first 10)\t:  [0 5 3 1 2 4 7 8 9 4]\n",
      "accuracy:  0.225\n",
      "f1 score:  0.22561390274651033\n",
      "epoch:  5\n",
      "y_pred (first 10)\t:  [8 4 4 5 0 4 8 8 8 4]\n",
      "y_real (first 10)\t:  [0 5 3 1 2 4 7 8 9 4]\n",
      "accuracy:  0.28\n",
      "f1 score:  0.26854354421239446\n",
      "epoch:  6\n",
      "y_pred (first 10)\t:  [0 4 4 5 0 4 3 8 8 4]\n",
      "y_real (first 10)\t:  [0 5 3 1 2 4 7 8 9 4]\n",
      "accuracy:  0.285\n",
      "f1 score:  0.27744247643141573\n",
      "epoch:  7\n",
      "y_pred (first 10)\t:  [0 4 3 5 0 4 8 8 8 4]\n",
      "y_real (first 10)\t:  [0 5 3 1 2 4 7 8 9 4]\n",
      "accuracy:  0.3\n",
      "f1 score:  0.2915641726012882\n",
      "epoch:  8\n",
      "y_pred (first 10)\t:  [0 4 3 5 0 4 8 8 8 5]\n",
      "y_real (first 10)\t:  [0 5 3 1 2 4 7 8 9 4]\n",
      "accuracy:  0.305\n",
      "f1 score:  0.3026136617083477\n",
      "epoch:  9\n",
      "y_pred (first 10)\t:  [0 4 3 5 1 4 3 8 8 5]\n",
      "y_real (first 10)\t:  [0 5 3 1 2 4 7 8 9 4]\n",
      "accuracy:  0.295\n",
      "f1 score:  0.2962556605594503\n"
     ]
    }
   ],
   "source": [
    "# train\n",
    "model.train(X_train=X_train, y_train=y_train, X_val=X_val, y_val=y_val, learning_rate=0.000001, epochs=10, batch_size=64)"
   ]
  },
  {
   "attachments": {},
   "cell_type": "markdown",
   "metadata": {},
   "source": [
    "### Save Model"
   ]
  },
  {
   "cell_type": "code",
   "execution_count": 9,
   "metadata": {},
   "outputs": [],
   "source": [
    "# Save the model using pickle\n",
    "import pickle\n",
    "with open('model.pkl', 'wb') as f:\n",
    "    pickle.dump(model, f)\n",
    "\n",
    "# Load the model using pickle\n",
    "with open('model.pkl', 'rb') as f:\n",
    "    model = pickle.load(f)\n"
   ]
  },
  {
   "attachments": {},
   "cell_type": "markdown",
   "metadata": {},
   "source": [
    "## Performace Metrics and Confusion Matrix"
   ]
  },
  {
   "attachments": {},
   "cell_type": "markdown",
   "metadata": {},
   "source": [
    "### Load Test Data"
   ]
  },
  {
   "cell_type": "code",
   "execution_count": 10,
   "metadata": {},
   "outputs": [],
   "source": [
    "# load test images\n",
    "test_images, test_labels = load_data('training-d', 'training-d.csv')\n",
    "test_images, test_labels = preprocess_data(test_images, test_labels)"
   ]
  },
  {
   "attachments": {},
   "cell_type": "markdown",
   "metadata": {},
   "source": [
    "### Performance Matrics"
   ]
  },
  {
   "cell_type": "code",
   "execution_count": 11,
   "metadata": {},
   "outputs": [
    {
     "name": "stdout",
     "output_type": "stream",
     "text": [
      "Accuracy:  0.199\n",
      "Confusion Matrix:  [[35 15  6  4  2  4  8  1 14 12]\n",
      " [17 18 12  4  5  3  9 15  9  8]\n",
      " [19 15 13  2  5  5  5  8  3 24]\n",
      " [17  4  3 31  4  4  6 16  5 14]\n",
      " [ 6  4  0 12  7 23  9 22  7  7]\n",
      " [11 10  7 22  4 10 11 12  8 10]\n",
      " [ 6 17  5  8  6  4 11 14  1 15]\n",
      " [ 7  7  3  5  9  4  3 39  3 19]\n",
      " [ 7  5 14  8  5 17  9  8 18  9]\n",
      " [20 12  4 10  4  4 12 13 12 17]]\n",
      "Classification Report:                precision    recall  f1-score   support\n",
      "\n",
      "           0       0.24      0.35      0.28       101\n",
      "           1       0.17      0.18      0.17       100\n",
      "           2       0.19      0.13      0.16        99\n",
      "           3       0.29      0.30      0.30       104\n",
      "           4       0.14      0.07      0.09        97\n",
      "           5       0.13      0.10      0.11       105\n",
      "           6       0.13      0.13      0.13        87\n",
      "           7       0.26      0.39      0.32        99\n",
      "           8       0.23      0.18      0.20       100\n",
      "           9       0.13      0.16      0.14       108\n",
      "\n",
      "    accuracy                           0.20      1000\n",
      "   macro avg       0.19      0.20      0.19      1000\n",
      "weighted avg       0.19      0.20      0.19      1000\n",
      "\n"
     ]
    }
   ],
   "source": [
    "# performance metrics and confusion matrix\n",
    "from sklearn.metrics import confusion_matrix\n",
    "from sklearn.metrics import classification_report\n",
    "from sklearn.metrics import accuracy_score\n",
    "\n",
    "# predict   \n",
    "y_pred = model.predict(test_images)\n",
    "\n",
    "# print performance metrics\n",
    "print(\"Accuracy: \", accuracy_score(test_labels, y_pred))\n",
    "print(\"Confusion Matrix: \", confusion_matrix(test_labels, y_pred))\n",
    "\n",
    "# print classification report\n",
    "print(\"Classification Report: \", classification_report(test_labels, y_pred))"
   ]
  },
  {
   "attachments": {},
   "cell_type": "markdown",
   "metadata": {},
   "source": [
    "### Confustion Matrix"
   ]
  },
  {
   "cell_type": "code",
   "execution_count": 12,
   "metadata": {},
   "outputs": [
    {
     "data": {
      "image/png": "[encoded data removed]",
      "text/plain": [
       "<Figure size 1000x1000 with 2 Axes>"
      ]
     },
     "metadata": {},
     "output_type": "display_data"
    }
   ],
   "source": [
    "# plot confusion matrix using seaborn\n",
    "import seaborn as sns\n",
    "import matplotlib.pyplot as plt\n",
    "\n",
    "cm = confusion_matrix(test_labels, y_pred)\n",
    "plt.figure(figsize=(10, 10))\n",
    "sns.heatmap(cm, annot=True, fmt=\"d\")\n",
    "plt.title(\"Confusion matrix\")\n",
    "plt.ylabel('True label')\n",
    "plt.xlabel('Predicted label')\n",
    "plt.show()"
   ]
  }
 ],
 "metadata": {
  "kernelspec": {
   "display_name": "Python 3 (ipykernel)",
   "language": "python",
   "name": "python3"
  },
  "language_info": {
   "codemirror_mode": {
    "name": "ipython",
    "version": 3
   },
   "file_extension": ".py",
   "mimetype": "text/x-python",
   "name": "python",
   "nbconvert_exporter": "python",
   "pygments_lexer": "ipython3",
   "version": "3.11.0"
  },
  "vscode": {
   "interpreter": {
    "hash": "b33069848e313ad49d053c5e2afad7bf1a5908034c1949d44822ff536d0b5b4f"
   }
  }
 },
 "nbformat": 4,
 "nbformat_minor": 2
}
